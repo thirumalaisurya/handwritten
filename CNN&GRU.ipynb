{
 "cells": [
  {
   "cell_type": "code",
   "execution_count": 1,
   "id": "202426ca",
   "metadata": {},
   "outputs": [],
   "source": [
    "# packages and libraries\n",
    "import numpy as np\n",
    "import pandas as pd\n",
    "import os\n",
    "import matplotlib.pyplot as plt\n",
    "%matplotlib inline\n",
    "import cv2\n",
    "from imutils import paths\n",
    "import tensorflow as tf\n",
    "from tensorflow.keras import backend as K\n",
    "from tensorflow.keras.models import Model\n",
    "from tensorflow.keras.layers import Input, Conv2D, MaxPooling2D, Reshape, Bidirectional, LSTM,GRU, Dense, Lambda, Activation, BatchNormalization, Dropout\n",
    "from tensorflow.keras.optimizers import Adam\n",
    "import warnings\n",
    "warnings.filterwarnings('ignore')\n",
    "from tensorflow.keras import backend as K"
   ]
  },
  {
   "cell_type": "code",
   "execution_count": 2,
   "id": "d1d03862",
   "metadata": {},
   "outputs": [],
   "source": [
    "def getUnreadableCount(df):\n",
    "    return (df['IDENTITY'] == 'UNREADABLE').sum();\n",
    "\n",
    "def getLowercaseCount(df):\n",
    "    return (df['IDENTITY'].str.islower()).sum();\n",
    "\n",
    "def getDigitCount(df):\n",
    "    return (df['IDENTITY'].str.isdigit()).sum();\n",
    "  \n",
    "def removeUnreadableEntries(df):\n",
    "    is_unreadable = df['IDENTITY'] != 'UNREADABLE';\n",
    "    df = df[is_unreadable];\n",
    "    return df;\n",
    "\n",
    "def removeDigitEntries(df):\n",
    "    is_digit = df['IDENTITY'].str.isdigit();\n",
    "    df = df[is_digit];\n",
    "    return df;\n",
    "\n",
    "def cleanDataSet(df):\n",
    "    empty_count = df.isnull().sum().sum();\n",
    "    if(empty_count):\n",
    "        df.dropna(inplace=True);\n",
    "    unreadable_count = getUnreadableCount(df);\n",
    "    if(unreadable_count):\n",
    "        df = removeUnreadableEntries(df);\n",
    "    digit_count = getDigitCount(df);          \n",
    "    if(digit_count):\n",
    "        df = removeDigitEntries(df);\n",
    "    lowercase_count = getLowercaseCount(df);\n",
    "    if(lowercase_count):\n",
    "        # Names in the pictures are all uppercase, we have to make our data uppercase\n",
    "        df.loc[:, 'IDENTITY'] = df['IDENTITY'].apply(lambda x: x.upper());\n",
    "    notpicture_count = df[~df[\"FILENAME\"].str.endswith('.jpg')].sum().sum().astype(int);\n",
    "    if(notpicture_count):                       # 0 for train, 0 for validation\n",
    "         df = df[df[\"FILENAME\"].str.contains('.jpg')];\n",
    "    return df;\n",
    "\n",
    "def num_to_char(num): \n",
    "    label = \"\"\n",
    "    for ch in num:\n",
    "        if ch == -1:\n",
    "            break\n",
    "            \n",
    "        label+=alphabet_characters[ch]        \n",
    "    return label\n",
    "\n",
    "def ctc_loss_function(args):  \n",
    "    y_pred, y_true, input_length, label_length = args\n",
    "    return tf.keras.backend.ctc_batch_cost(y_true, y_pred, input_length, label_length)"
   ]
  },
  {
   "cell_type": "code",
   "execution_count": 3,
   "id": "d3846908",
   "metadata": {},
   "outputs": [],
   "source": [
    "train_size = 50000\n",
    "valid_size= 10000\n",
    "alphabet_characters = u\"ABCDEFGHIJKLMNOPQRSTUVWXYZ-' \"\n",
    "num_of_characters = len(alphabet_characters) + 1\n",
    "num_of_timestamps = 64"
   ]
  },
  {
   "cell_type": "code",
   "execution_count": 4,
   "id": "3e393af5",
   "metadata": {},
   "outputs": [],
   "source": [
    "training_written_df = pd.read_csv('D:/Thirumalai/32053/RCNN&GRU/written_name_train_v2.csv')\n",
    "validation_written_df = pd.read_csv('D:/Thirumalai/32053/RCNN&GRU/written_name_validation_v2.csv')"
   ]
  },
  {
   "cell_type": "code",
   "execution_count": 5,
   "id": "c8b29c7f",
   "metadata": {},
   "outputs": [
    {
     "data": {
      "text/html": [
       "<div>\n",
       "<style scoped>\n",
       "    .dataframe tbody tr th:only-of-type {\n",
       "        vertical-align: middle;\n",
       "    }\n",
       "\n",
       "    .dataframe tbody tr th {\n",
       "        vertical-align: top;\n",
       "    }\n",
       "\n",
       "    .dataframe thead th {\n",
       "        text-align: right;\n",
       "    }\n",
       "</style>\n",
       "<table border=\"1\" class=\"dataframe\">\n",
       "  <thead>\n",
       "    <tr style=\"text-align: right;\">\n",
       "      <th></th>\n",
       "      <th>FILENAME</th>\n",
       "      <th>IDENTITY</th>\n",
       "    </tr>\n",
       "  </thead>\n",
       "  <tbody>\n",
       "    <tr>\n",
       "      <th>0</th>\n",
       "      <td>TRAIN_00001.jpg</td>\n",
       "      <td>BALTHAZAR</td>\n",
       "    </tr>\n",
       "    <tr>\n",
       "      <th>1</th>\n",
       "      <td>TRAIN_00002.jpg</td>\n",
       "      <td>SIMON</td>\n",
       "    </tr>\n",
       "    <tr>\n",
       "      <th>2</th>\n",
       "      <td>TRAIN_00003.jpg</td>\n",
       "      <td>BENES</td>\n",
       "    </tr>\n",
       "    <tr>\n",
       "      <th>3</th>\n",
       "      <td>TRAIN_00004.jpg</td>\n",
       "      <td>LA LOVE</td>\n",
       "    </tr>\n",
       "    <tr>\n",
       "      <th>4</th>\n",
       "      <td>TRAIN_00005.jpg</td>\n",
       "      <td>DAPHNE</td>\n",
       "    </tr>\n",
       "    <tr>\n",
       "      <th>...</th>\n",
       "      <td>...</td>\n",
       "      <td>...</td>\n",
       "    </tr>\n",
       "    <tr>\n",
       "      <th>330956</th>\n",
       "      <td>TRAIN_330957.jpg</td>\n",
       "      <td>LENNY</td>\n",
       "    </tr>\n",
       "    <tr>\n",
       "      <th>330957</th>\n",
       "      <td>TRAIN_330958.jpg</td>\n",
       "      <td>TIFFANY</td>\n",
       "    </tr>\n",
       "    <tr>\n",
       "      <th>330958</th>\n",
       "      <td>TRAIN_330959.jpg</td>\n",
       "      <td>COUTINHO DESA</td>\n",
       "    </tr>\n",
       "    <tr>\n",
       "      <th>330959</th>\n",
       "      <td>TRAIN_330960.jpg</td>\n",
       "      <td>MOURAD</td>\n",
       "    </tr>\n",
       "    <tr>\n",
       "      <th>330960</th>\n",
       "      <td>TRAIN_330961.jpg</td>\n",
       "      <td>HELOISE</td>\n",
       "    </tr>\n",
       "  </tbody>\n",
       "</table>\n",
       "<p>330961 rows × 2 columns</p>\n",
       "</div>"
      ],
      "text/plain": [
       "                FILENAME       IDENTITY\n",
       "0        TRAIN_00001.jpg      BALTHAZAR\n",
       "1        TRAIN_00002.jpg          SIMON\n",
       "2        TRAIN_00003.jpg          BENES\n",
       "3        TRAIN_00004.jpg        LA LOVE\n",
       "4        TRAIN_00005.jpg         DAPHNE\n",
       "...                  ...            ...\n",
       "330956  TRAIN_330957.jpg          LENNY\n",
       "330957  TRAIN_330958.jpg        TIFFANY\n",
       "330958  TRAIN_330959.jpg  COUTINHO DESA\n",
       "330959  TRAIN_330960.jpg         MOURAD\n",
       "330960  TRAIN_330961.jpg        HELOISE\n",
       "\n",
       "[330961 rows x 2 columns]"
      ]
     },
     "execution_count": 5,
     "metadata": {},
     "output_type": "execute_result"
    }
   ],
   "source": [
    "training_written_df\n"
   ]
  },
  {
   "cell_type": "code",
   "execution_count": 6,
   "id": "746ff5b6",
   "metadata": {},
   "outputs": [
    {
     "data": {
      "text/html": [
       "<div>\n",
       "<style scoped>\n",
       "    .dataframe tbody tr th:only-of-type {\n",
       "        vertical-align: middle;\n",
       "    }\n",
       "\n",
       "    .dataframe tbody tr th {\n",
       "        vertical-align: top;\n",
       "    }\n",
       "\n",
       "    .dataframe thead th {\n",
       "        text-align: right;\n",
       "    }\n",
       "</style>\n",
       "<table border=\"1\" class=\"dataframe\">\n",
       "  <thead>\n",
       "    <tr style=\"text-align: right;\">\n",
       "      <th></th>\n",
       "      <th>FILENAME</th>\n",
       "      <th>IDENTITY</th>\n",
       "    </tr>\n",
       "  </thead>\n",
       "  <tbody>\n",
       "    <tr>\n",
       "      <th>0</th>\n",
       "      <td>VALIDATION_0001.jpg</td>\n",
       "      <td>BILEL</td>\n",
       "    </tr>\n",
       "    <tr>\n",
       "      <th>1</th>\n",
       "      <td>VALIDATION_0002.jpg</td>\n",
       "      <td>LAUMIONIER</td>\n",
       "    </tr>\n",
       "    <tr>\n",
       "      <th>2</th>\n",
       "      <td>VALIDATION_0003.jpg</td>\n",
       "      <td>LEA</td>\n",
       "    </tr>\n",
       "    <tr>\n",
       "      <th>3</th>\n",
       "      <td>VALIDATION_0004.jpg</td>\n",
       "      <td>JEAN-ROCH</td>\n",
       "    </tr>\n",
       "    <tr>\n",
       "      <th>4</th>\n",
       "      <td>VALIDATION_0005.jpg</td>\n",
       "      <td>RUPP</td>\n",
       "    </tr>\n",
       "    <tr>\n",
       "      <th>...</th>\n",
       "      <td>...</td>\n",
       "      <td>...</td>\n",
       "    </tr>\n",
       "    <tr>\n",
       "      <th>41365</th>\n",
       "      <td>VALIDATION_41366.jpg</td>\n",
       "      <td>CHAILLAN</td>\n",
       "    </tr>\n",
       "    <tr>\n",
       "      <th>41366</th>\n",
       "      <td>VALIDATION_41367.jpg</td>\n",
       "      <td>BAROUH</td>\n",
       "    </tr>\n",
       "    <tr>\n",
       "      <th>41367</th>\n",
       "      <td>VALIDATION_41368.jpg</td>\n",
       "      <td>MAXENCE</td>\n",
       "    </tr>\n",
       "    <tr>\n",
       "      <th>41368</th>\n",
       "      <td>VALIDATION_41369.jpg</td>\n",
       "      <td>HAMELIN</td>\n",
       "    </tr>\n",
       "    <tr>\n",
       "      <th>41369</th>\n",
       "      <td>VALIDATION_41370.jpg</td>\n",
       "      <td>LOLA</td>\n",
       "    </tr>\n",
       "  </tbody>\n",
       "</table>\n",
       "<p>41370 rows × 2 columns</p>\n",
       "</div>"
      ],
      "text/plain": [
       "                   FILENAME    IDENTITY\n",
       "0       VALIDATION_0001.jpg       BILEL\n",
       "1       VALIDATION_0002.jpg  LAUMIONIER\n",
       "2       VALIDATION_0003.jpg         LEA\n",
       "3       VALIDATION_0004.jpg   JEAN-ROCH\n",
       "4       VALIDATION_0005.jpg        RUPP\n",
       "...                     ...         ...\n",
       "41365  VALIDATION_41366.jpg    CHAILLAN\n",
       "41366  VALIDATION_41367.jpg      BAROUH\n",
       "41367  VALIDATION_41368.jpg     MAXENCE\n",
       "41368  VALIDATION_41369.jpg     HAMELIN\n",
       "41369  VALIDATION_41370.jpg        LOLA\n",
       "\n",
       "[41370 rows x 2 columns]"
      ]
     },
     "execution_count": 6,
     "metadata": {},
     "output_type": "execute_result"
    }
   ],
   "source": [
    "validation_written_df"
   ]
  },
  {
   "cell_type": "markdown",
   "id": "59fe3abb",
   "metadata": {},
   "source": [
    "# Data Cleaning"
   ]
  },
  {
   "cell_type": "code",
   "execution_count": 7,
   "id": "5dba099f",
   "metadata": {},
   "outputs": [],
   "source": [
    "training_written_df = cleanDataSet(training_written_df);\n",
    "validation_written_df = cleanDataSet(validation_written_df);\n",
    "    \n",
    "\n",
    "training_written_df.reset_index(inplace = True, drop=True)\n",
    "validation_written_df.reset_index(inplace = True, drop=True) "
   ]
  },
  {
   "cell_type": "markdown",
   "id": "2fcce76f",
   "metadata": {},
   "source": [
    "# Example of picture after resizing to 128x64 and 256x32"
   ]
  },
  {
   "cell_type": "code",
   "execution_count": 8,
   "id": "5799ff90",
   "metadata": {},
   "outputs": [
    {
     "data": {
      "image/png": "[encoded data removed]",
      "text/plain": [
       "<Figure size 432x288 with 1 Axes>"
      ]
     },
     "metadata": {
      "needs_background": "light"
     },
     "output_type": "display_data"
    }
   ],
   "source": [
    "i = 128;\n",
    "img_dir = 'D:/Thirumalai/32053/RCNN&GRU/train/'+training_written_df.loc[i, 'FILENAME']\n",
    "image = cv2.imread(img_dir, cv2.IMREAD_GRAYSCALE)\n",
    "new_img = cv2.resize(image, (128, 64))\n",
    "plt.imshow(new_img, cmap = 'gray')\n",
    "plt.show()"
   ]
  },
  {
   "cell_type": "code",
   "execution_count": 9,
   "id": "f3c97ba2",
   "metadata": {},
   "outputs": [
    {
     "data": {
      "image/png": "[encoded data removed]",
      "text/plain": [
       "<Figure size 432x288 with 1 Axes>"
      ]
     },
     "metadata": {
      "needs_background": "light"
     },
     "output_type": "display_data"
    }
   ],
   "source": [
    "i = 128;\n",
    "img_dir = 'D:/Thirumalai/32053/RCNN&GRU/train/'+training_written_df.loc[i, 'FILENAME']\n",
    "image = cv2.imread(img_dir, cv2.IMREAD_GRAYSCALE)\n",
    "new_img = cv2.resize(image, (256, 32))\n",
    "plt.imshow(new_img, cmap = 'gray')\n",
    "plt.show()"
   ]
  },
  {
   "cell_type": "markdown",
   "id": "e4561ac4",
   "metadata": {},
   "source": [
    "# Data preparation"
   ]
  },
  {
   "cell_type": "code",
   "execution_count": 17,
   "id": "a59b8ef6",
   "metadata": {},
   "outputs": [],
   "source": [
    "valid_x = []\n",
    "for i in range(valid_size):\n",
    "    img_dir = 'D:/Thirumalai/32053/RCNN&GRU/validation/'+validation_written_df.loc[i, 'FILENAME']   \n",
    "    image = cv2.imread(img_dir, cv2.IMREAD_GRAYSCALE)\n",
    "    image = cv2.resize(image, (256, 32));\n",
    "    image = tf.keras.utils.normalize(image, axis = 1)\n",
    "    image = cv2.rotate(image, cv2.ROTATE_90_CLOCKWISE)\n",
    "    valid_x.append(image)\n",
    "    \n",
    "train_x = []\n",
    "for j in range(train_size):\n",
    "    img_dir = 'D:/Thirumalai/32053/RCNN&GRU/train/'+training_written_df.loc[j, 'FILENAME']\n",
    "    image = cv2.imread(img_dir, cv2.IMREAD_GRAYSCALE)\n",
    "    image = cv2.resize(image, (256, 32));\n",
    "    image = tf.keras.utils.normalize(image, axis = 1)\n",
    "    image = cv2.rotate(image, cv2.ROTATE_90_CLOCKWISE)\n",
    "    train_x.append(image)"
   ]
  },
  {
   "cell_type": "code",
   "execution_count": 18,
   "id": "c449496b",
   "metadata": {},
   "outputs": [],
   "source": [
    "valid_x = np.array(valid_x).reshape(-1, 256, 32, 1)\n",
    "train_x = np.array(train_x).reshape(-1, 256, 32, 1)\n",
    "\n",
    "str_len = training_written_df[\"IDENTITY\"].str.len().max()"
   ]
  },
  {
   "cell_type": "code",
   "execution_count": 19,
   "id": "292f077c",
   "metadata": {},
   "outputs": [],
   "source": [
    "train_y = np.ones([train_size, str_len]) * -1\n",
    "\n",
    "train_label_len = np.zeros([train_size, 1])\n",
    "train_input_len = np.ones([train_size, 1]) * (num_of_timestamps-2)\n",
    "train_output = np.zeros([train_size])\n",
    "\n",
    "valid_y = np.ones([valid_size, str_len]) * -1\n",
    "\n",
    "valid_label_len = np.zeros([valid_size, 1])\n",
    "valid_input_len = np.ones([valid_size, 1]) * (num_of_timestamps-2)\n",
    "valid_output = np.zeros([valid_size])"
   ]
  },
  {
   "cell_type": "markdown",
   "id": "3f3fce75",
   "metadata": {},
   "source": [
    "# Label preparation"
   ]
  },
  {
   "cell_type": "code",
   "execution_count": 20,
   "id": "b2afa24d",
   "metadata": {},
   "outputs": [],
   "source": [
    "for i in range(train_size):\n",
    "    label = []\n",
    "    for ch in training_written_df['IDENTITY'][i]:\n",
    "        label.append(alphabet_characters.index(ch))\n",
    "    arr = np.array(label)\n",
    "    train_y[i, 0:len(training_written_df.loc[i, 'IDENTITY'])] = arr;\n",
    "    train_label_len[i] = len(training_written_df.loc[i, 'IDENTITY'])\n",
    "\n",
    "\n",
    "for i in range(valid_size):\n",
    "    label = []\n",
    "    for ch in validation_written_df['IDENTITY'][i]:\n",
    "        label.append(alphabet_characters.index(ch))\n",
    "    arr = np.array(label)\n",
    "    valid_y[i, 0:len(validation_written_df.loc[i, 'IDENTITY'])] = arr;\n",
    "    valid_label_len[i] = len(validation_written_df.loc[i, 'IDENTITY'])"
   ]
  },
  {
   "cell_type": "markdown",
   "id": "5dfe8aa5",
   "metadata": {},
   "source": [
    "# CNN & GRU Proposed model"
   ]
  },
  {
   "cell_type": "code",
   "execution_count": 22,
   "id": "84656157",
   "metadata": {},
   "outputs": [
    {
     "name": "stdout",
     "output_type": "stream",
     "text": [
      "Model: \"model\"\n",
      "_________________________________________________________________\n",
      "Layer (type)                 Output Shape              Param #   \n",
      "=================================================================\n",
      "input_1 (InputLayer)         [(None, 256, 32, 1)]      0         \n",
      "_________________________________________________________________\n",
      "conv2d (Conv2D)              (None, 256, 32, 32)       320       \n",
      "_________________________________________________________________\n",
      "batch_normalization (BatchNo (None, 256, 32, 32)       128       \n",
      "_________________________________________________________________\n",
      "activation (Activation)      (None, 256, 32, 32)       0         \n",
      "_________________________________________________________________\n",
      "max_pooling2d (MaxPooling2D) (None, 128, 16, 32)       0         \n",
      "_________________________________________________________________\n",
      "conv2d_1 (Conv2D)            (None, 128, 16, 64)       18496     \n",
      "_________________________________________________________________\n",
      "batch_normalization_1 (Batch (None, 128, 16, 64)       256       \n",
      "_________________________________________________________________\n",
      "activation_1 (Activation)    (None, 128, 16, 64)       0         \n",
      "_________________________________________________________________\n",
      "max_pooling2d_1 (MaxPooling2 (None, 128, 8, 64)        0         \n",
      "_________________________________________________________________\n",
      "dropout (Dropout)            (None, 128, 8, 64)        0         \n",
      "_________________________________________________________________\n",
      "conv2d_2 (Conv2D)            (None, 128, 8, 128)       73856     \n",
      "_________________________________________________________________\n",
      "batch_normalization_2 (Batch (None, 128, 8, 128)       512       \n",
      "_________________________________________________________________\n",
      "activation_2 (Activation)    (None, 128, 8, 128)       0         \n",
      "_________________________________________________________________\n",
      "max_pooling2d_2 (MaxPooling2 (None, 128, 8, 128)       0         \n",
      "_________________________________________________________________\n",
      "dropout_1 (Dropout)          (None, 128, 8, 128)       0         \n",
      "_________________________________________________________________\n",
      "conv2d_3 (Conv2D)            (None, 128, 8, 256)       295168    \n",
      "_________________________________________________________________\n",
      "batch_normalization_3 (Batch (None, 128, 8, 256)       1024      \n",
      "_________________________________________________________________\n",
      "activation_3 (Activation)    (None, 128, 8, 256)       0         \n",
      "_________________________________________________________________\n",
      "max_pooling2d_3 (MaxPooling2 (None, 64, 4, 256)        0         \n",
      "_________________________________________________________________\n",
      "dropout_2 (Dropout)          (None, 64, 4, 256)        0         \n",
      "_________________________________________________________________\n",
      "reshape (Reshape)            (None, 64, 1024)          0         \n",
      "_________________________________________________________________\n",
      "dense (Dense)                (None, 64, 64)            65600     \n",
      "_________________________________________________________________\n",
      "bidirectional (Bidirectional (None, 64, 512)           494592    \n",
      "_________________________________________________________________\n",
      "bidirectional_1 (Bidirection (None, 64, 512)           1182720   \n",
      "_________________________________________________________________\n",
      "dense_1 (Dense)              (None, 64, 30)            15390     \n",
      "_________________________________________________________________\n",
      "activation_4 (Activation)    (None, 64, 30)            0         \n",
      "=================================================================\n",
      "Total params: 2,148,062\n",
      "Trainable params: 2,147,102\n",
      "Non-trainable params: 960\n",
      "_________________________________________________________________\n"
     ]
    }
   ],
   "source": [
    "input_data = Input(shape=(256, 32, 1))\n",
    "\n",
    "cnn_layer = Conv2D(32, (3, 3), padding='same', kernel_initializer='he_normal')(input_data)  \n",
    "cnn_layer = BatchNormalization()(cnn_layer)\n",
    "cnn_layer = Activation('relu')(cnn_layer)\n",
    "cnn_layer = MaxPooling2D(pool_size=(2, 2))(cnn_layer)\n",
    "    \n",
    "cnn_layer = Conv2D(64, (3, 3), padding='same', kernel_initializer='he_normal')(cnn_layer)\n",
    "cnn_layer = BatchNormalization()(cnn_layer)\n",
    "cnn_layer = Activation('relu')(cnn_layer)\n",
    "cnn_layer = MaxPooling2D(pool_size=(1, 2))(cnn_layer)\n",
    "cnn_layer = Dropout(0.3)(cnn_layer)\n",
    "    \n",
    "cnn_layer = Conv2D(128, (3, 3), padding='same', kernel_initializer='he_normal')(cnn_layer)\n",
    "cnn_layer = BatchNormalization()(cnn_layer)\n",
    "cnn_layer = Activation('relu')(cnn_layer)\n",
    "cnn_layer = MaxPooling2D(pool_size=(1, 1))(cnn_layer)\n",
    "cnn_layer = Dropout(0.3)(cnn_layer)\n",
    "\n",
    "cnn_layer = Conv2D(256, (3, 3), padding='same', kernel_initializer='he_normal')(cnn_layer)\n",
    "cnn_layer = BatchNormalization()(cnn_layer)\n",
    "cnn_layer = Activation('relu')(cnn_layer)\n",
    "cnn_layer = MaxPooling2D(pool_size=(2, 2))(cnn_layer)\n",
    "cnn_layer = Dropout(0.3)(cnn_layer)\n",
    "    \n",
    "# CNN to RNN\n",
    "reshaped_layer = Reshape(target_shape=((64, 1024)))(cnn_layer)\n",
    "dense_layer = Dense(64, activation='relu', kernel_initializer='he_normal')(reshaped_layer)\n",
    "    \n",
    "## RNN\n",
    "rnn_layer = Bidirectional(GRU(256, return_sequences=True))(dense_layer)\n",
    "rnn_layer = Bidirectional(GRU(256, return_sequences=True))(rnn_layer)\n",
    "    \n",
    "## OUTPUT\n",
    "final_dense_layer = Dense(num_of_characters, kernel_initializer='he_normal')(rnn_layer)\n",
    "y_pred = Activation('softmax')(final_dense_layer)\n",
    "\n",
    "model = Model(inputs=input_data, outputs=y_pred)\n",
    "model.summary()"
   ]
  },
  {
   "cell_type": "markdown",
   "id": "150299cf",
   "metadata": {},
   "source": [
    "# Early Stopping Function\n"
   ]
  },
  {
   "cell_type": "code",
   "execution_count": 23,
   "id": "5b6a92d9",
   "metadata": {},
   "outputs": [],
   "source": [
    "early_stopping = tf.keras.callbacks.EarlyStopping(\n",
    "    monitor=\"val_loss\", patience=5, restore_best_weights=True\n",
    ")\n",
    "my_callbacks = [\n",
    "    tf.keras.callbacks.EarlyStopping(patience=10)\n",
    "]"
   ]
  },
  {
   "cell_type": "markdown",
   "id": "c9445dff",
   "metadata": {},
   "source": [
    "# Calculation of CTC Loss Function"
   ]
  },
  {
   "cell_type": "code",
   "execution_count": 37,
   "id": "d2b7aaad",
   "metadata": {},
   "outputs": [],
   "source": [
    "true_labels = Input(shape=[str_len], dtype='float32')\n",
    "input_length = Input(shape=[1], dtype='int64')\n",
    "label_length = Input(shape=[1], dtype='int64')\n",
    "\n",
    "ctc_loss = Lambda(ctc_loss_function, output_shape=(1,), name='ctc_loss')([y_pred, true_labels, input_length, label_length])\n",
    "model_final = Model(inputs=[input_data, true_labels, input_length, label_length], outputs=ctc_loss)"
   ]
  },
  {
   "cell_type": "markdown",
   "id": "737252bd",
   "metadata": {},
   "source": [
    "# Compling Model"
   ]
  },
  {
   "cell_type": "code",
   "execution_count": 38,
   "id": "f806721e",
   "metadata": {},
   "outputs": [],
   "source": [
    "model_final.compile(loss={'ctc_loss' : lambda y_true, y_pred: y_pred}, optimizer=Adam(lr = 0.0001))"
   ]
  },
  {
   "cell_type": "markdown",
   "id": "842ef1a7",
   "metadata": {},
   "source": [
    "# Training of model"
   ]
  },
  {
   "cell_type": "code",
   "execution_count": 39,
   "id": "54d23cd7",
   "metadata": {
    "scrolled": true
   },
   "outputs": [
    {
     "name": "stdout",
     "output_type": "stream",
     "text": [
      "Epoch 1/3\n",
      "782/782 [==============================] - 2268s 3s/step - loss: 3.9716 - val_loss: 3.4560\n",
      "Epoch 2/3\n",
      "782/782 [==============================] - 2847s 4s/step - loss: 3.2711 - val_loss: 2.7211\n",
      "Epoch 3/3\n",
      "782/782 [==============================] - 4021s 5s/step - loss: 2.8191 - val_loss: 2.4148\n"
     ]
    }
   ],
   "source": [
    "history = model_final.fit(x=[train_x, train_y, train_input_len, train_label_len], y=train_output, \n",
    "                validation_data=([valid_x, valid_y, valid_input_len, valid_label_len], valid_output),\n",
    "                epochs=3, batch_size=64, callbacks=my_callbacks)"
   ]
  },
  {
   "cell_type": "code",
   "execution_count": 43,
   "id": "498b3e2d",
   "metadata": {
    "scrolled": true
   },
   "outputs": [
    {
     "data": {
      "image/png": "[encoded data removed]",
      "text/plain": [
       "<Figure size 432x288 with 1 Axes>"
      ]
     },
     "metadata": {
      "needs_background": "light"
     },
     "output_type": "display_data"
    }
   ],
   "source": [
    "loss_train = np.array(history.history['loss'])\n",
    "loss_val = np.array(history.history['val_loss'])\n",
    "epochs = range(3)\n",
    "plt.plot(epochs, loss_train, 'g', label='Training loss')\n",
    "plt.plot(epochs, loss_val, 'b', label='validation loss')\n",
    "plt.title('Training and Validation loss')\n",
    "plt.xlabel('Epochs')\n",
    "plt.ylabel('Loss')\n",
    "plt.legend()\n",
    "plt.show()"
   ]
  },
  {
   "cell_type": "markdown",
   "id": "f3f7eee1",
   "metadata": {},
   "source": [
    "# Using the decoding function from Keras"
   ]
  },
  {
   "cell_type": "code",
   "execution_count": 44,
   "id": "5b2eee9b",
   "metadata": {},
   "outputs": [],
   "source": [
    "def decode_batch_predictions(pred):\n",
    "    input_len = np.ones(pred.shape[0]) * pred.shape[1]\n",
    "    # Use greedy search. For complex tasks, you can use beam search\n",
    "    results = tf.keras.backend.ctc_decode(pred, input_length=input_len, greedy=True)[0][0]\n",
    "\n",
    "    output_text = []\n",
    "    for i in range(valid_size):\n",
    "        output_text.append(num_to_char(K.get_value(results[i])))\n",
    "    return output_text"
   ]
  },
  {
   "cell_type": "code",
   "execution_count": 45,
   "id": "a447f2aa",
   "metadata": {},
   "outputs": [],
   "source": [
    "model_valid_prediction = model.predict(valid_x)\n",
    "decoded_valid_prediction = decode_batch_predictions(model_valid_prediction)"
   ]
  },
  {
   "cell_type": "code",
   "execution_count": 46,
   "id": "b472f644",
   "metadata": {},
   "outputs": [
    {
     "name": "stdout",
     "output_type": "stream",
     "text": [
      "Correct words in validation predicted: 61.04%\n"
     ]
    }
   ],
   "source": [
    "valid_true_labels = validation_written_df.loc[0:valid_size, 'IDENTITY']\n",
    "correct = 0\n",
    "\n",
    "for i in range(valid_size):\n",
    "    pr = decoded_valid_prediction[i]\n",
    "    tr = valid_true_labels[i]\n",
    "    \n",
    "    if pr == tr :\n",
    "        correct += 1 \n",
    "    \n",
    "print('Correct words in validation predicted: %.2f%%' %(correct*100/valid_size))"
   ]
  },
  {
   "cell_type": "markdown",
   "id": "f4b246ba",
   "metadata": {},
   "source": [
    "# Loading, cleaning and prediction on the test set"
   ]
  },
  {
   "cell_type": "code",
   "execution_count": 47,
   "id": "bbab46b5",
   "metadata": {},
   "outputs": [],
   "source": [
    "test_written_df = pd.read_csv('D:/Thirumalai/32053/RCNN&GRU/written_name_test_v2.csv')\n",
    "test_size = 10000\n",
    "test_written_df = cleanDataSet(test_written_df);\n",
    "    \n",
    "# To make sure our indices are one behind the other\n",
    "test_written_df.reset_index(inplace = True, drop=True)\n",
    "\n",
    "test_x = []\n",
    "for i in range(valid_size):\n",
    "    img_dir = 'D:/Thirumalai/32053/RCNN&GRU/test/'+test_written_df.loc[i, 'FILENAME']   \n",
    "    image = cv2.imread(img_dir, cv2.IMREAD_GRAYSCALE)\n",
    "    image = cv2.resize(image, (256, 32));\n",
    "    image = tf.keras.utils.normalize(image, axis = 1)\n",
    "    image = cv2.rotate(image, cv2.ROTATE_90_CLOCKWISE)\n",
    "    test_x.append(image)\n",
    "    \n",
    "test_x = np.array(test_x).reshape(-1, 256, 32, 1)\n",
    "test_y = np.ones([test_size, str_len]) * -1\n",
    "\n",
    "for i in range(test_size):\n",
    "    label_num = []\n",
    "    for ch in test_written_df['IDENTITY'][i]:\n",
    "        label_num.append(alphabet_characters.index(ch))\n",
    "    arr = np.array(label_num)\n",
    "    test_y[i, 0:len(test_written_df.loc[i, 'IDENTITY'])] = arr;"
   ]
  },
  {
   "cell_type": "code",
   "execution_count": 48,
   "id": "d17c0e67",
   "metadata": {},
   "outputs": [
    {
     "name": "stdout",
     "output_type": "stream",
     "text": [
      "Correct words in test predicted: 61.69%\n"
     ]
    }
   ],
   "source": [
    "model_test_prediction = model.predict(test_x)\n",
    "decoded_test_prediction = decode_batch_predictions(model_test_prediction)\n",
    "\n",
    "test_labels = test_written_df.loc[0:test_size, 'IDENTITY']\n",
    "correct = 0\n",
    "\n",
    "for i in range(test_size):\n",
    "    pr = decoded_test_prediction[i]\n",
    "    tr = test_labels[i]\n",
    "    \n",
    "    if pr == tr :\n",
    "        correct += 1 \n",
    "    \n",
    "print('Correct words in test predicted: %.2f%%' %(correct*100/test_size))"
   ]
  },
  {
   "cell_type": "markdown",
   "id": "14cd5f73",
   "metadata": {},
   "source": [
    "# Random image reconstruction, with the predicted labels"
   ]
  },
  {
   "cell_type": "code",
   "execution_count": 49,
   "id": "9911b241",
   "metadata": {},
   "outputs": [
    {
     "data": {
      "image/png": "[encoded data removed]",
      "text/plain": [
       "<Figure size 432x288 with 1 Axes>"
      ]
     },
     "metadata": {
      "needs_background": "light"
     },
     "output_type": "display_data"
    },
    {
     "data": {
      "image/png": "[encoded data removed]",
      "text/plain": [
       "<Figure size 432x288 with 1 Axes>"
      ]
     },
     "metadata": {
      "needs_background": "light"
     },
     "output_type": "display_data"
    },
    {
     "data": {
      "image/png": "[encoded data removed]",
      "text/plain": [
       "<Figure size 432x288 with 1 Axes>"
      ]
     },
     "metadata": {
      "needs_background": "light"
     },
     "output_type": "display_data"
    },
    {
     "data": {
      "image/png": "[encoded data removed]",
      "text/plain": [
       "<Figure size 432x288 with 1 Axes>"
      ]
     },
     "metadata": {
      "needs_background": "light"
     },
     "output_type": "display_data"
    },
    {
     "data": {
      "image/png": "[encoded data removed]",
      "text/plain": [
       "<Figure size 432x288 with 1 Axes>"
      ]
     },
     "metadata": {
      "needs_background": "light"
     },
     "output_type": "display_data"
    },
    {
     "data": {
      "image/png": "[encoded data removed]",
      "text/plain": [
       "<Figure size 432x288 with 1 Axes>"
      ]
     },
     "metadata": {
      "needs_background": "light"
     },
     "output_type": "display_data"
    },
    {
     "data": {
      "image/png": "[encoded data removed]",
      "text/plain": [
       "<Figure size 432x288 with 1 Axes>"
      ]
     },
     "metadata": {
      "needs_background": "light"
     },
     "output_type": "display_data"
    },
    {
     "data": {
      "image/png": "[encoded data removed]",
      "text/plain": [
       "<Figure size 432x288 with 1 Axes>"
      ]
     },
     "metadata": {
      "needs_background": "light"
     },
     "output_type": "display_data"
    },
    {
     "data": {
      "image/png": "[encoded data removed]",
      "text/plain": [
       "<Figure size 432x288 with 1 Axes>"
      ]
     },
     "metadata": {
      "needs_background": "light"
     },
     "output_type": "display_data"
    }
   ],
   "source": [
    "for i in range(5,14):\n",
    "    img_dir = 'D:/Thirumalai/32053/RCNN&GRU/test/'+test_written_df.loc[i, 'FILENAME']\n",
    "    image = cv2.imread(img_dir, cv2.IMREAD_GRAYSCALE)\n",
    "    plt.imshow(image, cmap='gray')\n",
    "    image = cv2.resize(image, (256, 32));\n",
    "    image = tf.keras.utils.normalize(image, axis = 1)\n",
    "    image = cv2.rotate(image, cv2.ROTATE_90_CLOCKWISE)\n",
    "    prediction = model.predict(image.reshape(1, 256, 32, 1))\n",
    "    decoded_label = K.get_value(K.ctc_decode(prediction, input_length=np.ones(prediction.shape[0])*prediction.shape[1],greedy=True)[0][0])\n",
    "    plt.title(num_to_char(decoded_label[0]))\n",
    "    plt.show()"
   ]
  },
  {
   "cell_type": "code",
   "execution_count": null,
   "id": "27a04d8d",
   "metadata": {},
   "outputs": [],
   "source": []
  },
  {
   "cell_type": "code",
   "execution_count": null,
   "id": "f2a80a4f",
   "metadata": {},
   "outputs": [],
   "source": []
  },
  {
   "cell_type": "code",
   "execution_count": null,
   "id": "09b1259d",
   "metadata": {},
   "outputs": [],
   "source": []
  }
 ],
 "metadata": {
  "kernelspec": {
   "display_name": "Python 3",
   "language": "python",
   "name": "python3"
  },
  "language_info": {
   "codemirror_mode": {
    "name": "ipython",
    "version": 3
   },
   "file_extension": ".py",
   "mimetype": "text/x-python",
   "name": "python",
   "nbconvert_exporter": "python",
   "pygments_lexer": "ipython3",
   "version": "3.8.8"
  }
 },
 "nbformat": 4,
 "nbformat_minor": 5
}
